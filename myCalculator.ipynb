{
 "cells": [
  {
   "metadata": {},
   "cell_type": "markdown",
   "source": "## Test 1.1 & 1.3 完成\n",
   "id": "9c340447b4b9f41c"
  },
  {
   "metadata": {
    "ExecuteTime": {
     "end_time": "2025-02-06T17:43:19.272951Z",
     "start_time": "2025-02-06T17:43:19.263043Z"
    }
   },
   "cell_type": "code",
   "source": [
    "import pandas as pd\n",
    "import numpy as np\n",
    "# A. Calculate the pairwise covariance matrix\n",
    "def calculate_pairwise_covariance_matrix(data):\n",
    "    return data.cov()\n",
    "\n",
    "\n",
    "def calculate_missing_covariance(data):\n",
    "    complete_data = data.dropna()\n",
    "    cov_matrix = complete_data.cov()\n",
    "    return cov_matrix\n",
    "\n",
    "data = pd.read_csv('testfiles/data/test1.csv')\n",
    "cov_matrix = calculate_pairwise_covariance_matrix(data)\n",
    "print(\"Covariance Matrix (Pairwise Covariance Matrix):\")\n",
    "print(cov_matrix)\n",
    "missing_matrix = calculate_missing_covariance(data)\n",
    "print(\"Missing Covariance Matrix:\")\n",
    "print(missing_matrix)"
   ],
   "id": "b5f7431a8fc3e788",
   "outputs": [
    {
     "name": "stdout",
     "output_type": "stream",
     "text": [
      "Covariance Matrix (Pairwise Covariance Matrix):\n",
      "          x1        x2        x3        x4        x5\n",
      "x1  1.173986 -0.629631 -0.278932 -0.081448 -0.735140\n",
      "x2 -0.629631  1.318197  0.018090  0.446047  0.139309\n",
      "x3 -0.278932  0.018090  0.918102  0.360836  0.258613\n",
      "x4 -0.081448  0.446047  0.360836  0.894764 -0.235190\n",
      "x5 -0.735140  0.139309  0.258613 -0.235190  0.522607\n",
      "Missing Covariance Matrix:\n",
      "          x1        x2        x3        x4        x5\n",
      "x1  2.148513 -1.389470 -0.516466 -0.129327 -1.056814\n",
      "x2 -1.389470  1.035342  0.339993  0.193888  0.626876\n",
      "x3 -0.516466  0.339993  0.942388  0.947887  0.051788\n",
      "x4 -0.129327  0.193888  0.947887  1.113436 -0.204731\n",
      "x5 -1.056814  0.626876  0.051788 -0.204731  0.592027\n"
     ]
    }
   ],
   "execution_count": 1
  },
  {
   "metadata": {},
   "cell_type": "markdown",
   "source": "## Test 3.1 完成",
   "id": "add46a30ac1180c9"
  },
  {
   "metadata": {
    "ExecuteTime": {
     "end_time": "2025-02-05T00:40:42.613973Z",
     "start_time": "2025-02-05T00:40:42.606518Z"
    }
   },
   "cell_type": "code",
   "source": [
    "# Check if the matrix is positive semi-definite\n",
    "def is_positive_semi_definite(matrix):\n",
    "    eigenvalues = np.linalg.eigvals(matrix)\n",
    "    return np.all(eigenvalues >= 0), eigenvalues\n",
    "\n",
    "def near_psd_rebonato_jackel(cov_matrix, epsilon=1e-8):\n",
    "    # Step 1: Eigenvalue decomposition\n",
    "    eigenvalues, eigenvectors = np.linalg.eigh(cov_matrix)\n",
    "\n",
    "    # Step 2: Replace negative eigenvalues with a small non-negative value\n",
    "    eigenvalues[eigenvalues < 0] = epsilon\n",
    "\n",
    "    # Step 3: Reconstruct the covariance matrix\n",
    "    adjusted_cov_matrix = eigenvectors @ np.diag(eigenvalues) @ eigenvectors.T\n",
    "\n",
    "    # Step 4: Rescale the matrix to match the original variances\n",
    "    original_variances = np.diag(cov_matrix)\n",
    "    scaling_factors = np.sqrt(original_variances / np.diag(adjusted_cov_matrix))\n",
    "    scaling_matrix = np.diag(scaling_factors)\n",
    "    final_cov_matrix = scaling_matrix @ adjusted_cov_matrix @ scaling_matrix\n",
    "\n",
    "    return final_cov_matrix\n",
    "\n",
    "data = pd.read_csv('testfiles/data/testout_1.3.csv')\n",
    "psd_status, eigenvalues = is_positive_semi_definite(data)\n",
    "print(\"Is the covariance matrix positive semi definite?\", psd_status)\n",
    "nearest_psd_matrix02 = near_psd_rebonato_jackel(data)\n",
    "print(\"Nearest PSD Matrix (rebonato_jackel):\")\n",
    "print(nearest_psd_matrix02)"
   ],
   "id": "55d4205a28e97d51",
   "outputs": [
    {
     "name": "stdout",
     "output_type": "stream",
     "text": [
      "Is the covariance matrix positive semi definite? False\n",
      "Nearest PSD Matrix (rebonato_jackel):\n",
      "[[ 1.17398583 -0.62491041 -0.28191694 -0.07333608 -0.68749295]\n",
      " [-0.62491041  1.3181973   0.01757876  0.44569089  0.13695755]\n",
      " [-0.28191694  0.01757876  0.91810185  0.35676489  0.24242429]\n",
      " [-0.07333608  0.44569089  0.35676489  0.89476398 -0.21504184]\n",
      " [-0.68749295  0.13695755  0.24242429 -0.21504184  0.52260731]]\n"
     ]
    }
   ],
   "execution_count": 14
  },
  {
   "metadata": {},
   "cell_type": "markdown",
   "source": "## Test 3.3 完成",
   "id": "4d1169238cbe326e"
  },
  {
   "metadata": {
    "ExecuteTime": {
     "end_time": "2025-02-07T17:17:36.600499Z",
     "start_time": "2025-02-07T17:17:36.575924Z"
    }
   },
   "cell_type": "code",
   "source": [
    "import pandas as pd\n",
    "import numpy as np\n",
    "# B Check if the matrix is positive semi-definite\n",
    "def is_positive_semi_definite(matrix):\n",
    "    eigenvalues = np.linalg.eigvals(matrix)\n",
    "    return np.all(eigenvalues >= 0), eigenvalues\n",
    "\n",
    "def nearest_psd_higham(matrix, epsilon=1e-8):\n",
    "    # Compute the symmetric part of the matrix\n",
    "    sym_matrix = (matrix + matrix.T) / 2\n",
    "    # Perform eigen-decomposition\n",
    "    eigenvalues, eigenvectors = np.linalg.eigh(sym_matrix)\n",
    "    # Replace negative eigenvalues with zero\n",
    "    eigenvalues[eigenvalues < epsilon] = epsilon\n",
    "    # print(eigenvalues)\n",
    "    # Reconstruct the matrix\n",
    "    return eigenvectors @ np.diag(eigenvalues) @ eigenvectors.T\n",
    "\n",
    "data = pd.read_csv('testfiles/data/testout_1.3.csv')\n",
    "psd_status, _ = is_positive_semi_definite(data)\n",
    "print(\"Is the covariance matrix positive semi definite?\", psd_status)\n",
    "\n",
    "\n",
    "nearest_psd_matrix = nearest_psd_higham(data)\n",
    "print(\"Nearest PSD Matrix (Higham):\")\n",
    "print(nearest_psd_matrix)"
   ],
   "id": "12cbfac9bea69095",
   "outputs": [
    {
     "name": "stdout",
     "output_type": "stream",
     "text": [
      "Is the covariance matrix positive semi definite? False\n"
     ]
    },
    {
     "ename": "LinAlgError",
     "evalue": "Eigenvalues did not converge",
     "output_type": "error",
     "traceback": [
      "\u001B[0;31m---------------------------------------------------------------------------\u001B[0m",
      "\u001B[0;31mLinAlgError\u001B[0m                               Traceback (most recent call last)",
      "Cell \u001B[0;32mIn[32], line 24\u001B[0m\n\u001B[1;32m     20\u001B[0m psd_status, _ \u001B[38;5;241m=\u001B[39m is_positive_semi_definite(data)\n\u001B[1;32m     21\u001B[0m \u001B[38;5;28mprint\u001B[39m(\u001B[38;5;124m\"\u001B[39m\u001B[38;5;124mIs the covariance matrix positive semi definite?\u001B[39m\u001B[38;5;124m\"\u001B[39m, psd_status)\n\u001B[0;32m---> 24\u001B[0m nearest_psd_matrix \u001B[38;5;241m=\u001B[39m \u001B[43mnearest_psd_higham\u001B[49m\u001B[43m(\u001B[49m\u001B[43mdata\u001B[49m\u001B[43m)\u001B[49m\n\u001B[1;32m     25\u001B[0m \u001B[38;5;28mprint\u001B[39m(\u001B[38;5;124m\"\u001B[39m\u001B[38;5;124mNearest PSD Matrix (Higham):\u001B[39m\u001B[38;5;124m\"\u001B[39m)\n\u001B[1;32m     26\u001B[0m \u001B[38;5;28mprint\u001B[39m(nearest_psd_matrix)\n",
      "Cell \u001B[0;32mIn[32], line 12\u001B[0m, in \u001B[0;36mnearest_psd_higham\u001B[0;34m(matrix, epsilon)\u001B[0m\n\u001B[1;32m     10\u001B[0m sym_matrix \u001B[38;5;241m=\u001B[39m (matrix \u001B[38;5;241m+\u001B[39m matrix\u001B[38;5;241m.\u001B[39mT) \u001B[38;5;241m/\u001B[39m \u001B[38;5;241m2\u001B[39m\n\u001B[1;32m     11\u001B[0m \u001B[38;5;66;03m# Perform eigen-decomposition\u001B[39;00m\n\u001B[0;32m---> 12\u001B[0m eigenvalues, eigenvectors \u001B[38;5;241m=\u001B[39m \u001B[43mnp\u001B[49m\u001B[38;5;241;43m.\u001B[39;49m\u001B[43mlinalg\u001B[49m\u001B[38;5;241;43m.\u001B[39;49m\u001B[43meigh\u001B[49m\u001B[43m(\u001B[49m\u001B[43msym_matrix\u001B[49m\u001B[43m)\u001B[49m\n\u001B[1;32m     13\u001B[0m \u001B[38;5;66;03m# Replace negative eigenvalues with zero\u001B[39;00m\n\u001B[1;32m     14\u001B[0m eigenvalues[eigenvalues \u001B[38;5;241m<\u001B[39m epsilon] \u001B[38;5;241m=\u001B[39m epsilon\n",
      "File \u001B[0;32m/Library/Frameworks/Python.framework/Versions/3.13/lib/python3.13/site-packages/numpy/linalg/_linalg.py:1627\u001B[0m, in \u001B[0;36meigh\u001B[0;34m(a, UPLO)\u001B[0m\n\u001B[1;32m   1623\u001B[0m signature \u001B[38;5;241m=\u001B[39m \u001B[38;5;124m'\u001B[39m\u001B[38;5;124mD->dD\u001B[39m\u001B[38;5;124m'\u001B[39m \u001B[38;5;28;01mif\u001B[39;00m isComplexType(t) \u001B[38;5;28;01melse\u001B[39;00m \u001B[38;5;124m'\u001B[39m\u001B[38;5;124md->dd\u001B[39m\u001B[38;5;124m'\u001B[39m\n\u001B[1;32m   1624\u001B[0m \u001B[38;5;28;01mwith\u001B[39;00m errstate(call\u001B[38;5;241m=\u001B[39m_raise_linalgerror_eigenvalues_nonconvergence,\n\u001B[1;32m   1625\u001B[0m               invalid\u001B[38;5;241m=\u001B[39m\u001B[38;5;124m'\u001B[39m\u001B[38;5;124mcall\u001B[39m\u001B[38;5;124m'\u001B[39m, over\u001B[38;5;241m=\u001B[39m\u001B[38;5;124m'\u001B[39m\u001B[38;5;124mignore\u001B[39m\u001B[38;5;124m'\u001B[39m, divide\u001B[38;5;241m=\u001B[39m\u001B[38;5;124m'\u001B[39m\u001B[38;5;124mignore\u001B[39m\u001B[38;5;124m'\u001B[39m,\n\u001B[1;32m   1626\u001B[0m               under\u001B[38;5;241m=\u001B[39m\u001B[38;5;124m'\u001B[39m\u001B[38;5;124mignore\u001B[39m\u001B[38;5;124m'\u001B[39m):\n\u001B[0;32m-> 1627\u001B[0m     w, vt \u001B[38;5;241m=\u001B[39m \u001B[43mgufunc\u001B[49m\u001B[43m(\u001B[49m\u001B[43ma\u001B[49m\u001B[43m,\u001B[49m\u001B[43m \u001B[49m\u001B[43msignature\u001B[49m\u001B[38;5;241;43m=\u001B[39;49m\u001B[43msignature\u001B[49m\u001B[43m)\u001B[49m\n\u001B[1;32m   1628\u001B[0m w \u001B[38;5;241m=\u001B[39m w\u001B[38;5;241m.\u001B[39mastype(_realType(result_t), copy\u001B[38;5;241m=\u001B[39m\u001B[38;5;28;01mFalse\u001B[39;00m)\n\u001B[1;32m   1629\u001B[0m vt \u001B[38;5;241m=\u001B[39m vt\u001B[38;5;241m.\u001B[39mastype(result_t, copy\u001B[38;5;241m=\u001B[39m\u001B[38;5;28;01mFalse\u001B[39;00m)\n",
      "File \u001B[0;32m/Library/Frameworks/Python.framework/Versions/3.13/lib/python3.13/site-packages/numpy/linalg/_linalg.py:110\u001B[0m, in \u001B[0;36m_raise_linalgerror_eigenvalues_nonconvergence\u001B[0;34m(err, flag)\u001B[0m\n\u001B[1;32m    109\u001B[0m \u001B[38;5;28;01mdef\u001B[39;00m\u001B[38;5;250m \u001B[39m\u001B[38;5;21m_raise_linalgerror_eigenvalues_nonconvergence\u001B[39m(err, flag):\n\u001B[0;32m--> 110\u001B[0m     \u001B[38;5;28;01mraise\u001B[39;00m LinAlgError(\u001B[38;5;124m\"\u001B[39m\u001B[38;5;124mEigenvalues did not converge\u001B[39m\u001B[38;5;124m\"\u001B[39m)\n",
      "\u001B[0;31mLinAlgError\u001B[0m: Eigenvalues did not converge"
     ]
    }
   ],
   "execution_count": 32
  },
  {
   "metadata": {
    "ExecuteTime": {
     "end_time": "2025-02-07T16:59:00.959712Z",
     "start_time": "2025-02-07T16:59:00.932205Z"
    }
   },
   "cell_type": "code",
   "outputs": [
    {
     "name": "stdout",
     "output_type": "stream",
     "text": [
      "Is the covariance matrix positive semi definite? False\n"
     ]
    },
    {
     "ename": "LinAlgError",
     "evalue": "Eigenvalues did not converge",
     "output_type": "error",
     "traceback": [
      "\u001B[0;31m---------------------------------------------------------------------------\u001B[0m",
      "\u001B[0;31mLinAlgError\u001B[0m                               Traceback (most recent call last)",
      "Cell \u001B[0;32mIn[10], line 26\u001B[0m\n\u001B[1;32m     23\u001B[0m psd_status, _ \u001B[38;5;241m=\u001B[39m is_positive_semi_definite(data)\n\u001B[1;32m     24\u001B[0m \u001B[38;5;28mprint\u001B[39m(\u001B[38;5;124m\"\u001B[39m\u001B[38;5;124mIs the covariance matrix positive semi definite?\u001B[39m\u001B[38;5;124m\"\u001B[39m, psd_status)\n\u001B[0;32m---> 26\u001B[0m nearest_psd_matrix \u001B[38;5;241m=\u001B[39m \u001B[43mnearest_psd_higham\u001B[49m\u001B[43m(\u001B[49m\u001B[43mdata\u001B[49m\u001B[43m)\u001B[49m\n\u001B[1;32m     27\u001B[0m \u001B[38;5;28mprint\u001B[39m(\u001B[38;5;124m\"\u001B[39m\u001B[38;5;124mNearest PSD Matrix (Higham):\u001B[39m\u001B[38;5;124m\"\u001B[39m)\n\u001B[1;32m     28\u001B[0m \u001B[38;5;28mprint\u001B[39m(nearest_psd_matrix)\n",
      "Cell \u001B[0;32mIn[7], line 12\u001B[0m, in \u001B[0;36mnearest_psd_higham\u001B[0;34m(matrix, epsilon)\u001B[0m\n\u001B[1;32m     10\u001B[0m sym_matrix \u001B[38;5;241m=\u001B[39m (matrix \u001B[38;5;241m+\u001B[39m matrix\u001B[38;5;241m.\u001B[39mT) \u001B[38;5;241m/\u001B[39m \u001B[38;5;241m2\u001B[39m\n\u001B[1;32m     11\u001B[0m \u001B[38;5;66;03m# Perform eigen-decomposition\u001B[39;00m\n\u001B[0;32m---> 12\u001B[0m eigenvalues, eigenvectors \u001B[38;5;241m=\u001B[39m \u001B[43mnp\u001B[49m\u001B[38;5;241;43m.\u001B[39;49m\u001B[43mlinalg\u001B[49m\u001B[38;5;241;43m.\u001B[39;49m\u001B[43meigh\u001B[49m\u001B[43m(\u001B[49m\u001B[43msym_matrix\u001B[49m\u001B[43m)\u001B[49m\n\u001B[1;32m     13\u001B[0m \u001B[38;5;66;03m# Replace negative eigenvalues with zero\u001B[39;00m\n\u001B[1;32m     14\u001B[0m eigenvalues[eigenvalues \u001B[38;5;241m<\u001B[39m epsilon] \u001B[38;5;241m=\u001B[39m epsilon\n",
      "File \u001B[0;32m/Library/Frameworks/Python.framework/Versions/3.13/lib/python3.13/site-packages/numpy/linalg/_linalg.py:1627\u001B[0m, in \u001B[0;36meigh\u001B[0;34m(a, UPLO)\u001B[0m\n\u001B[1;32m   1623\u001B[0m signature \u001B[38;5;241m=\u001B[39m \u001B[38;5;124m'\u001B[39m\u001B[38;5;124mD->dD\u001B[39m\u001B[38;5;124m'\u001B[39m \u001B[38;5;28;01mif\u001B[39;00m isComplexType(t) \u001B[38;5;28;01melse\u001B[39;00m \u001B[38;5;124m'\u001B[39m\u001B[38;5;124md->dd\u001B[39m\u001B[38;5;124m'\u001B[39m\n\u001B[1;32m   1624\u001B[0m \u001B[38;5;28;01mwith\u001B[39;00m errstate(call\u001B[38;5;241m=\u001B[39m_raise_linalgerror_eigenvalues_nonconvergence,\n\u001B[1;32m   1625\u001B[0m               invalid\u001B[38;5;241m=\u001B[39m\u001B[38;5;124m'\u001B[39m\u001B[38;5;124mcall\u001B[39m\u001B[38;5;124m'\u001B[39m, over\u001B[38;5;241m=\u001B[39m\u001B[38;5;124m'\u001B[39m\u001B[38;5;124mignore\u001B[39m\u001B[38;5;124m'\u001B[39m, divide\u001B[38;5;241m=\u001B[39m\u001B[38;5;124m'\u001B[39m\u001B[38;5;124mignore\u001B[39m\u001B[38;5;124m'\u001B[39m,\n\u001B[1;32m   1626\u001B[0m               under\u001B[38;5;241m=\u001B[39m\u001B[38;5;124m'\u001B[39m\u001B[38;5;124mignore\u001B[39m\u001B[38;5;124m'\u001B[39m):\n\u001B[0;32m-> 1627\u001B[0m     w, vt \u001B[38;5;241m=\u001B[39m \u001B[43mgufunc\u001B[49m\u001B[43m(\u001B[49m\u001B[43ma\u001B[49m\u001B[43m,\u001B[49m\u001B[43m \u001B[49m\u001B[43msignature\u001B[49m\u001B[38;5;241;43m=\u001B[39;49m\u001B[43msignature\u001B[49m\u001B[43m)\u001B[49m\n\u001B[1;32m   1628\u001B[0m w \u001B[38;5;241m=\u001B[39m w\u001B[38;5;241m.\u001B[39mastype(_realType(result_t), copy\u001B[38;5;241m=\u001B[39m\u001B[38;5;28;01mFalse\u001B[39;00m)\n\u001B[1;32m   1629\u001B[0m vt \u001B[38;5;241m=\u001B[39m vt\u001B[38;5;241m.\u001B[39mastype(result_t, copy\u001B[38;5;241m=\u001B[39m\u001B[38;5;28;01mFalse\u001B[39;00m)\n",
      "File \u001B[0;32m/Library/Frameworks/Python.framework/Versions/3.13/lib/python3.13/site-packages/numpy/linalg/_linalg.py:110\u001B[0m, in \u001B[0;36m_raise_linalgerror_eigenvalues_nonconvergence\u001B[0;34m(err, flag)\u001B[0m\n\u001B[1;32m    109\u001B[0m \u001B[38;5;28;01mdef\u001B[39;00m\u001B[38;5;250m \u001B[39m\u001B[38;5;21m_raise_linalgerror_eigenvalues_nonconvergence\u001B[39m(err, flag):\n\u001B[0;32m--> 110\u001B[0m     \u001B[38;5;28;01mraise\u001B[39;00m LinAlgError(\u001B[38;5;124m\"\u001B[39m\u001B[38;5;124mEigenvalues did not converge\u001B[39m\u001B[38;5;124m\"\u001B[39m)\n",
      "\u001B[0;31mLinAlgError\u001B[0m: Eigenvalues did not converge"
     ]
    }
   ],
   "execution_count": 10,
   "source": [
    "import pandas as pd\n",
    "import numpy as np\n",
    "# B Check if the matrix is positive semi-definite\n",
    "def is_positive_semi_definite(matrix):\n",
    "    eigenvalues = np.linalg.eigvals(matrix)\n",
    "    return np.all(eigenvalues >= 0), eigenvalues\n",
    "\n",
    "def nearest_psd_higham_regularized(matrix, epsilon=1e-8, regularization=1e-6):\n",
    "    # Compute the symmetric part of the matrix\n",
    "    sym_matrix = (matrix + matrix.T) / 2\n",
    "    print(sym_matrix)\n",
    "    # Add regularization to diagonal\n",
    "    sym_matrix += np.eye(sym_matrix.shape[0]) * regularization\n",
    "    # Perform eigen-decomposition\n",
    "    eigenvalues, eigenvectors = np.linalg.eigh(sym_matrix)\n",
    "    # Replace negative eigenvalues with zero\n",
    "    eigenvalues[eigenvalues < epsilon] = epsilon\n",
    "    # Reconstruct the matrix\n",
    "    return eigenvectors @ np.diag(eigenvalues) @ eigenvectors.T\n",
    "\n",
    "\n",
    "data = pd.read_csv('testfiles/data/testout_1.3.csv')\n",
    "psd_status, _ = is_positive_semi_definite(data)\n",
    "print(\"Is the covariance matrix positive semi definite?\", psd_status)\n",
    "\n",
    "nearest_psd_matrix = nearest_psd_higham(data)\n",
    "print(\"Nearest PSD Matrix (Higham):\")\n",
    "print(nearest_psd_matrix)"
   ],
   "id": "4e620630cfae239d"
  },
  {
   "metadata": {},
   "cell_type": "markdown",
   "source": "",
   "id": "69fa2b1aa3659351"
  },
  {
   "metadata": {},
   "cell_type": "code",
   "outputs": [],
   "execution_count": null,
   "source": "",
   "id": "1dfb5fda56d4d10d"
  },
  {
   "metadata": {},
   "cell_type": "code",
   "outputs": [],
   "execution_count": null,
   "source": [
    "import numpy as np\n",
    "import pandas as pd\n",
    "from scipy.linalg import eigh\n",
    "\n",
    "# A. Calculate the pairwise covariance matrix\n",
    "def calculate_covariance_matrix(data):\n",
    "    return data.cov()\n",
    "\n",
    "# B. Check if the matrix is positive semi-definite\n",
    "def is_positive_semi_definite(matrix):\n",
    "    eigenvalues = np.linalg.eigvals(matrix)\n",
    "    return np.all(eigenvalues >= 0), eigenvalues\n",
    "\n",
    "# C. Find the nearest positive semi-definite matrix using Higham’s method\n",
    "def nearest_psd_higham(matrix):\n",
    "    # Compute the symmetric part of the matrix\n",
    "    sym_matrix = (matrix + matrix.T) / 2\n",
    "    # Perform eigen-decomposition\n",
    "    eigenvalues, eigenvectors = np.linalg.eigh(sym_matrix)\n",
    "    # Replace negative eigenvalues with zero\n",
    "    eigenvalues[eigenvalues < 0] = 0\n",
    "    # Reconstruct the matrix\n",
    "    return eigenvectors @ np.diag(eigenvalues) @ eigenvectors.T\n",
    "\n",
    "# D. Calculate covariance matrix using only overlapping data\n",
    "def covariance_overlapping(data):\n",
    "    overlapping_data = data.dropna()  # Drop rows with missing values\n",
    "    return overlapping_data.cov()\n",
    "\n",
    "# Main script\n",
    "# Load the data (assuming the file is named 'problem2.csv')\n",
    "data = pd.read_csv(\"problem2.csv\")\n",
    "# 1. Calculate covariance matrix\n",
    "cov_matrix = calculate_covariance_matrix(data)\n",
    "# 2. Check if the matrix is positive semi-definite\n",
    "psd_status, eigenvalues = is_positive_semi_definite(cov_matrix)\n",
    "print(\"Is the covariance matrix PSD?\", psd_status)\n",
    "# 3. Find the nearest PSD matrix using Higham's method\n",
    "nearest_psd_matrix = nearest_psd_higham(cov_matrix)\n",
    "\n",
    "# 4. Calculate covariance matrix using overlapping data\n",
    "cov_matrix_overlapping = covariance_overlapping(data)\n",
    "\n",
    "# 5. Compare the results\n",
    "print(\"Original Covariance Matrix:\")\n",
    "print(cov_matrix)\n",
    "\n",
    "print(\"Nearest PSD Matrix (Higham):\")\n",
    "print(nearest_psd_matrix)\n",
    "\n",
    "print(\"Covariance Matrix Using Overlapping Data:\")\n",
    "print(cov_matrix_overlapping)"
   ],
   "id": "4ebc6efc75acc12b"
  },
  {
   "metadata": {},
   "cell_type": "code",
   "outputs": [],
   "execution_count": null,
   "source": [
    "def exponential_weights(n, lambda_):\n",
    "    \"\"\"\n",
    "    Generate exponential weights for a time series of length n.\n",
    "\n",
    "    Parameters:\n",
    "        n (int): Length of the time series.\n",
    "        lambda_ (float): Decay factor (0 < lambda_ < 1).\n",
    "\n",
    "    Returns:\n",
    "        weights (np.array): Array of exponential weights.\n",
    "    \"\"\"\n",
    "    weights = (1 - lambda_) * (lambda_ ** np.arange(n - 1, -1, -1))\n",
    "    weights /= weights.sum()  # Normalize weights to sum to 1\n",
    "    return weights\n",
    "\n",
    "\n",
    "def exponential_weighted_covariance(data, lambda_):\n",
    "    \"\"\"\n",
    "    Calculate the exponentially weighted covariance matrix.\n",
    "\n",
    "    Parameters:\n",
    "        data (np.array or pd.DataFrame): Time series data (rows = observations, columns = variables).\n",
    "        lambda_ (float): Decay factor (0 < lambda_ < 1).\n",
    "\n",
    "    Returns:\n",
    "        cov_matrix (np.array): Exponentially weighted covariance matrix.\n",
    "    \"\"\"\n",
    "    if isinstance(data, pd.DataFrame):\n",
    "        data = data.values\n",
    "\n",
    "    n, m = data.shape\n",
    "    weights = exponential_weights(n, lambda_)\n",
    "\n",
    "    # Center the data (subtract the mean)\n",
    "    centered_data = data - np.mean(data, axis=0)\n",
    "\n",
    "    # Calculate the weighted covariance matrix\n",
    "    cov_matrix = np.zeros((m, m))\n",
    "    for i in range(m):\n",
    "        for j in range(m):\n",
    "            cov_matrix[i, j] = np.sum(weights * centered_data[:, i] * centered_data[:, j])\n",
    "\n",
    "    return cov_matrix\n",
    "\n",
    "\n",
    "# Example data (rows = time, columns = variables)\n",
    "test_data = pd.read_csv(\"testfiles/data/test2.csv\")\n",
    "lambda_val = 0.97\n",
    "\n",
    "# Calculate the exponentially weighted covariance matrix\n",
    "ew_cov = exponential_weighted_covariance(test_data, lambda_val)\n",
    "print(\"Exponentially Weighted Covariance Matrix:\")\n",
    "print(ew_cov)"
   ],
   "id": "5455c435fac1e5ea"
  }
 ],
 "metadata": {
  "kernelspec": {
   "display_name": "Python 3",
   "language": "python",
   "name": "python3"
  },
  "language_info": {
   "codemirror_mode": {
    "name": "ipython",
    "version": 2
   },
   "file_extension": ".py",
   "mimetype": "text/x-python",
   "name": "python",
   "nbconvert_exporter": "python",
   "pygments_lexer": "ipython2",
   "version": "2.7.6"
  }
 },
 "nbformat": 4,
 "nbformat_minor": 5
}
