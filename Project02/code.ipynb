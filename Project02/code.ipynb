{
 "cells": [
  {
   "metadata": {},
   "cell_type": "markdown",
   "source": [
    "# Project 02\n",
    "## Problem 1\n",
    "Given the dataset in DailyPrices.csv, for the stocks SPY, AAPL, and EQIX\n",
    "\n",
    "A. Calculate the Arithmetic Returns. Remove the mean, such that each series has 0 mean. Present the last 5 rows and the total standard deviation.\n",
    "\n",
    "B. Calculate the Log Returns. Remove the mean, such that each series has 0 mean. Present the last 5 rows and the total standard deviation.\n"
   ],
   "id": "35900b05d2a1a730"
  },
  {
   "metadata": {
    "ExecuteTime": {
     "end_time": "2025-03-08T08:43:50.528098Z",
     "start_time": "2025-03-08T08:43:50.520828Z"
    }
   },
   "cell_type": "code",
   "source": [
    "import pandas as pd\n",
    "import numpy as np\n",
    "import matplotlib.pyplot as plt"
   ],
   "id": "ea349369f6bebfcb",
   "outputs": [],
   "execution_count": 154
  },
  {
   "metadata": {
    "ExecuteTime": {
     "end_time": "2025-03-08T08:43:50.582413Z",
     "start_time": "2025-03-08T08:43:50.563272Z"
    }
   },
   "cell_type": "code",
   "source": [
    "dailyPrices = pd.read_csv(\"../Projects/Project02/DailyPrices.csv\", index_col='Date', parse_dates=True)\n",
    "print(dailyPrices.tail())\n",
    "# dailyPrices['Date'] = pd.to_datetime(dailyPrices['Date'])\n",
    "\n",
    "# # 设置日期列为索引\n",
    "# dailyPrices.set_index('Date', inplace=True)"
   ],
   "id": "2975ff57ca200814",
   "outputs": [
    {
     "name": "stdout",
     "output_type": "stream",
     "text": [
      "                   SPY        AAPL        NVDA        MSFT        AMZN  \\\n",
      "Date                                                                     \n",
      "2024-12-27  595.010010  255.589996  137.009995  430.529999  223.750000   \n",
      "2024-12-30  588.219971  252.199997  137.490005  424.829987  221.300003   \n",
      "2024-12-31  586.080017  250.419998  134.289993  421.500000  219.389999   \n",
      "2025-01-02  584.640015  243.850006  138.309998  418.579987  220.220001   \n",
      "2025-01-03  591.950012  243.360001  144.470001  423.350006  224.190002   \n",
      "\n",
      "                  META       GOOGL        AVGO        TSLA        GOOG  ...  \\\n",
      "Date                                                                    ...   \n",
      "2024-12-27  599.809998  192.759995  241.750000  431.660004  194.039993  ...   \n",
      "2024-12-30  591.239990  191.240005  235.580002  417.410004  192.690002  ...   \n",
      "2024-12-31  585.510010  189.300003  231.839996  403.839996  190.440002  ...   \n",
      "2025-01-02  599.239990  189.429993  231.979996  379.279999  190.630005  ...   \n",
      "2025-01-03  604.630005  191.789993  232.550003  410.440002  193.130005  ...   \n",
      "\n",
      "                 SBUX         MMC        MDT          CB         LMT  \\\n",
      "Date                                                                   \n",
      "2024-12-27  92.250000  213.470001  80.739998  277.679993  488.970001   \n",
      "2024-12-30  90.580002  211.979996  79.610001  275.410004  483.369995   \n",
      "2024-12-31  91.250000  212.410004  79.879997  276.299988  485.940002   \n",
      "2025-01-02  92.169998  211.339996  80.220001  272.519989  482.250000   \n",
      "2025-01-03  92.580002  211.270004  80.949997  271.730011  481.820007   \n",
      "\n",
      "                   KKR         MU         PLD       LRCX        EQIX  \n",
      "Date                                                                  \n",
      "2024-12-27  149.860001  88.514999  105.239998  73.400002  942.659973  \n",
      "2024-12-30  148.389999  85.309998  105.099998  72.150002  935.929993  \n",
      "2024-12-31  147.910004  84.160004  105.699997  72.230003  942.890015  \n",
      "2025-01-02  149.190002  87.330002  104.260002  72.440002  944.229980  \n",
      "2025-01-03  152.029999  89.870003  105.629997  75.110001  959.969971  \n",
      "\n",
      "[5 rows x 100 columns]\n"
     ]
    }
   ],
   "execution_count": 155
  },
  {
   "metadata": {
    "ExecuteTime": {
     "end_time": "2025-03-08T08:43:50.597303Z",
     "start_time": "2025-03-08T08:43:50.588380Z"
    }
   },
   "cell_type": "code",
   "source": [
    "stocks_p1 = [\"SPY\", \"AAPL\", \"EQIX\"]\n",
    "data1 = dailyPrices[stocks_p1]\n",
    "# A. Arithmetic Returns\n",
    "arithmetic_returns = data1.pct_change().dropna()\n",
    "arithmetic_returns_zero_mean = arithmetic_returns - arithmetic_returns.mean()\n",
    "\n",
    "# B. Log Returns\n",
    "log_returns = np.log(data1 / data1.shift(1)).dropna()\n",
    "log_returns_zero_mean = log_returns - log_returns.mean()\n",
    "\n",
    "# Present the last 5 rows and the total standard deviation\n",
    "print(\"Arithmetic Returns (Last 5 Rows):\")\n",
    "print(arithmetic_returns_zero_mean.tail())\n",
    "print(\"\\nArithmetic Returns Standard Deviation:\")\n",
    "print(arithmetic_returns_zero_mean.std())\n",
    "\n",
    "print(\"\\nLog Returns (Last 5 Rows):\")\n",
    "print(log_returns_zero_mean.tail())\n",
    "print(\"\\nLog Returns Standard Deviation:\")\n",
    "print(log_returns_zero_mean.std())"
   ],
   "id": "b2bda3eb1f889bec",
   "outputs": [
    {
     "name": "stdout",
     "output_type": "stream",
     "text": [
      "Arithmetic Returns (Last 5 Rows):\n",
      "                 SPY      AAPL      EQIX\n",
      "Date                                    \n",
      "2024-12-27 -0.011492 -0.014678 -0.006966\n",
      "2024-12-30 -0.012377 -0.014699 -0.008064\n",
      "2024-12-31 -0.004603 -0.008493  0.006512\n",
      "2025-01-02 -0.003422 -0.027671  0.000497\n",
      "2025-01-03  0.011538 -0.003445  0.015745\n",
      "\n",
      "Arithmetic Returns Standard Deviation:\n",
      "SPY     0.008077\n",
      "AAPL    0.013483\n",
      "EQIX    0.015361\n",
      "dtype: float64\n",
      "\n",
      "Log Returns (Last 5 Rows):\n",
      "                 SPY      AAPL      EQIX\n",
      "Date                                    \n",
      "2024-12-27 -0.011515 -0.014675 -0.006867\n",
      "2024-12-30 -0.012410 -0.014696 -0.007972\n",
      "2024-12-31 -0.004577 -0.008427  0.006602\n",
      "2025-01-02 -0.003392 -0.027930  0.000613\n",
      "2025-01-03  0.011494 -0.003356  0.015725\n",
      "\n",
      "Log Returns Standard Deviation:\n",
      "SPY     0.008078\n",
      "AAPL    0.013446\n",
      "EQIX    0.015270\n",
      "dtype: float64\n"
     ]
    }
   ],
   "execution_count": 156
  },
  {
   "metadata": {},
   "cell_type": "markdown",
   "source": [
    "### Problem 2\n",
    "Given the dataset in DailyPrices.csv, you have a portfolio of:\n",
    "\n",
    "    ● 100 shares of SPY\n",
    "\n",
    "    ● 200 shares of AAPL\n",
    "\n",
    "    ● 150 shares of EQIX\n",
    "\n",
    "A. Calculate the current value of the portfolio given today is 1/3/2025\n",
    "\n",
    "B. Calculate the VaR and ES of each stock and the entire portfolio at the 5% alpha level assuming arithmetic returns and 0 mean return, for the following methods:\n",
    "\n",
    "    a. Normally distributed with exponentially weighted covariance with lambda=0.97\n",
    "    b. T distribution using a Gaussian Copula\n",
    "    c. Historic simulation using the full history.\n",
    "\n",
    "C. Discuss the differences between the methods.\n"
   ],
   "id": "b08505ca6beaf504"
  },
  {
   "metadata": {
    "ExecuteTime": {
     "end_time": "2025-03-08T08:43:50.617974Z",
     "start_time": "2025-03-08T08:43:50.613950Z"
    }
   },
   "cell_type": "code",
   "source": [
    "## PART A\n",
    "dailyPrices = data1\n",
    "stocks_p2 = [\"SPY\", \"AAPL\", \"EQIX\"]\n",
    "data2= dailyPrices[stocks_p2]\n",
    "portfolio = {'SPY': 100, 'AAPL': 200, 'EQIX': 150}\n",
    "portfolio_values = np.array(list(portfolio.values()))\n",
    "today = pd.to_datetime('1/3/2025')\n",
    "prices_today = data2.loc[today]\n",
    "\n",
    "portfolio_value = sum(prices_today[stock] * shares for stock, shares in portfolio.items())\n",
    "print(f\"Portfolio Value on 1/3/2025: ${portfolio_value:.2f}\")"
   ],
   "id": "889684c0ca45df7a",
   "outputs": [
    {
     "name": "stdout",
     "output_type": "stream",
     "text": [
      "Portfolio Value on 1/3/2025: $251862.50\n"
     ]
    }
   ],
   "execution_count": 157
  },
  {
   "metadata": {
    "ExecuteTime": {
     "end_time": "2025-03-08T08:43:50.640881Z",
     "start_time": "2025-03-08T08:43:50.637765Z"
    }
   },
   "cell_type": "code",
   "source": [
    "# 计算每只股票当前的市值\n",
    "portfolio_market_value = prices_today * portfolio_values\n",
    "# print(portfolio_market_value)\n",
    "\n",
    "# 计算每只股票的投资组合权重\n",
    "weights = portfolio_market_value / portfolio_value\n",
    "weights = weights.values.reshape(-1, 1)  # 转换为列向量\n",
    "\n",
    "# Calculate arithmetic returns\n",
    "returns = data2.pct_change().dropna()"
   ],
   "id": "4abd442c4999745a",
   "outputs": [],
   "execution_count": 158
  },
  {
   "metadata": {
    "ExecuteTime": {
     "end_time": "2025-03-08T08:43:50.658996Z",
     "start_time": "2025-03-08T08:43:50.657425Z"
    }
   },
   "cell_type": "code",
   "source": [
    "# from scipy.stats import kurtosis, skew\n",
    "#\n",
    "# # 检查收益分布的峰度和偏度\n",
    "# for stock in returns.columns:\n",
    "#     print(f\"{stock} - Kurtosis: {kurtosis(returns[stock]):.4f}, Skewness: {skew(returns[stock]):.4f}\")"
   ],
   "id": "e3208b88058a44be",
   "outputs": [],
   "execution_count": 159
  },
  {
   "metadata": {
    "ExecuteTime": {
     "end_time": "2025-03-08T08:43:50.689138Z",
     "start_time": "2025-03-08T08:43:50.683197Z"
    }
   },
   "cell_type": "code",
   "source": [
    "## PART 2\n",
    "## Method A: Normally distributed with exponentially weighted covariance with lambda=0.97\n",
    "from scipy.stats import norm, t, multivariate_normal\n",
    "\n",
    "def exponential_weighted_covariance(returns, lambda_=0.97):\n",
    "    weights = np.array([lambda_**i for i in range(len(returns))][::-1])\n",
    "    weights /= weights.sum()\n",
    "    weighted_returns = returns.subtract(returns.mean(), axis=1)\n",
    "    cov = np.cov(weighted_returns.T, aweights=weights)\n",
    "    return cov\n",
    "\n",
    "def normal_VaR_and_ES(returns, weights, portfolio_value, lambda_=0.97, alpha=0.05):\n",
    "    cov = exponential_weighted_covariance(returns, lambda_)\n",
    "    portfolio_variance = weights.T @ cov @ weights\n",
    "    portfolio_std = np.sqrt(portfolio_variance).item()\n",
    "\n",
    "    z_alpha = norm.ppf(alpha)\n",
    "    var_delta_normal = -z_alpha * portfolio_std * portfolio_value\n",
    "    es_delta_normal = (norm.pdf(z_alpha) / alpha) * portfolio_std * portfolio_value\n",
    "\n",
    "    # Individual stock VaR and ES calculations\n",
    "    individual_vars = []\n",
    "    individual_es = []\n",
    "\n",
    "    for i in range(len(weights)):\n",
    "        # Extract the variance for this stock\n",
    "        stock_variance = cov[i, i]\n",
    "        stock_std = np.sqrt(stock_variance)\n",
    "        stock_value = weights[i] * portfolio_value\n",
    "\n",
    "        # Calculate individual VaR and ES\n",
    "        stock_var = -z_alpha * stock_std * stock_value\n",
    "        stock_es = (norm.pdf(z_alpha) / alpha) * stock_std * stock_value\n",
    "\n",
    "        individual_vars.append(stock_var.item())\n",
    "        individual_es.append(stock_es.item())\n",
    "\n",
    "    return var_delta_normal, es_delta_normal, individual_vars, individual_es\n",
    "\n",
    "# Calculate VaR and ES for portfolio and individual stocks\n",
    "var_delta_normal, es_delta_normal, individual_vars, individual_es = normal_VaR_and_ES(returns, weights, portfolio_value)\n",
    "\n",
    "# Print portfolio results\n",
    "print(f\"Portfolio VaR (Delta-Normal, 5%): ${var_delta_normal:.2f}\")\n",
    "print(f\"Portfolio ES (Delta-Normal, 5%): ${es_delta_normal:.2f}\")\n",
    "\n",
    "# Print individual stock results\n",
    "print(\"\\nIndividual Stocks:\")\n",
    "for i, stock in enumerate(stocks_p2):\n",
    "    print(f\"  VaR (5%) for {stock}: ${individual_vars[i]:.2f}\")\n",
    "    print(f\"  ES (5%) for {stock}: ${individual_es[i]:.2f}\")"
   ],
   "id": "60ca86ccbee68e77",
   "outputs": [
    {
     "name": "stdout",
     "output_type": "stream",
     "text": [
      "Portfolio VaR (Delta-Normal, 5%): $3886.02\n",
      "Portfolio ES (Delta-Normal, 5%): $4873.23\n",
      "\n",
      "Individual Stocks:\n",
      "  VaR (5%) for SPY: $832.16\n",
      "  ES (5%) for SPY: $1043.57\n",
      "  VaR (5%) for AAPL: $952.06\n",
      "  ES (5%) for AAPL: $1193.92\n",
      "  VaR (5%) for EQIX: $2953.92\n",
      "  ES (5%) for EQIX: $3704.34\n"
     ]
    }
   ],
   "execution_count": 160
  },
  {
   "metadata": {
    "ExecuteTime": {
     "end_time": "2025-03-08T08:43:50.874114Z",
     "start_time": "2025-03-08T08:43:50.695662Z"
    }
   },
   "cell_type": "code",
   "source": [
    "## PART 2\n",
    "## Method B\n",
    "def t_dist_gaussian_copula(returns, weights, portfolio_value, alpha=0.05, n_simulations=10000):\n",
    "    # Force zero mean if required\n",
    "    zero_mean_returns = returns - returns.mean()\n",
    "\n",
    "    # Fit t distribution to each asset\n",
    "    params = {}\n",
    "    for stock in stocks_p2:\n",
    "        params[stock] = t.fit(zero_mean_returns[stock])\n",
    "\n",
    "    # Convert to uniform using the fitted t-distribution\n",
    "    uniform_data = pd.DataFrame(index=zero_mean_returns.index, columns=zero_mean_returns.columns)\n",
    "    for stock in stocks_p2:\n",
    "        df, loc, scale = params[stock]\n",
    "        uniform_data[stock] = t.cdf(zero_mean_returns[stock], df, loc, scale)\n",
    "\n",
    "    # Convert to normal using inverse normal CDF\n",
    "    normal_data = uniform_data.apply(lambda x: norm.ppf(x))\n",
    "\n",
    "    # Calculate correlation matrix (using Pearson correlation)\n",
    "    corr_matrix = normal_data.corr().values\n",
    "\n",
    "    # Generate correlated normal random variables\n",
    "    np.random.seed(42)\n",
    "    Z = np.random.multivariate_normal(mean=np.zeros(len(stocks_p2)), cov=corr_matrix, size=n_simulations)\n",
    "\n",
    "    # Convert back to uniform\n",
    "    U = norm.cdf(Z)\n",
    "\n",
    "    # Convert back to original distribution using t inverse CDF\n",
    "    simulated_returns = np.zeros_like(U)\n",
    "    for i, stock in enumerate(stocks_p2):\n",
    "        df, loc, scale = params[stock]\n",
    "        simulated_returns[:, i] = t.ppf(U[:, i], df, loc, scale)\n",
    "\n",
    "    # Calculate portfolio returns\n",
    "    portfolio_returns = simulated_returns @ weights\n",
    "\n",
    "    # Calculate VaR and ES\n",
    "    portfolio_returns = portfolio_returns.flatten()  # Flatten first\n",
    "    portfolio_returns.sort()  # Then sort\n",
    "    var_index = int(alpha * n_simulations)\n",
    "    var_t_copula = -portfolio_returns[var_index] * portfolio_value\n",
    "    es_t_copula = -np.mean(portfolio_returns[:var_index]) * portfolio_value\n",
    "\n",
    "    return var_t_copula, es_t_copula\n",
    "\n",
    "var_t_copula, es_t_copula = t_dist_gaussian_copula(returns, weights, portfolio_value)\n",
    "\n",
    "print(f\"VaR (T-distribution with Gaussian Copula, 5%): ${var_t_copula:.2f}\")\n",
    "print(f\"ES (T-distribution with Gaussian Copula, 5%): ${es_t_copula:.2f}\")\n",
    "\n",
    "def individual_t_dist_var_es(returns, weights, portfolio, portfolio_value, alpha=0.05, n_simulations=10000):\n",
    "    var_results = {}\n",
    "    es_results = {}\n",
    "\n",
    "    # Zero mean returns\n",
    "    zero_mean_returns = returns - returns.mean()\n",
    "\n",
    "    for i, stock in enumerate(portfolio.keys()):\n",
    "        # print(i, stock)\n",
    "        # Fit t distribution to the stock\n",
    "        params = t.fit(zero_mean_returns[stock])\n",
    "        df, loc, scale = params\n",
    "\n",
    "        # Generate simulated returns from t-distribution\n",
    "        np.random.seed(42)\n",
    "        simulated_returns = t.rvs(df, loc, scale, size=n_simulations)\n",
    "\n",
    "        # Calculate dollar returns\n",
    "        dollar_returns = simulated_returns * weights[i] * portfolio_value\n",
    "        # Sort for VaR and ES calculation\n",
    "        dollar_returns.sort()\n",
    "\n",
    "        # Calculate VaR and ES\n",
    "        var_index = int(alpha * n_simulations)\n",
    "        var_t = -dollar_returns[var_index]\n",
    "        es_t = -np.mean(dollar_returns[:var_index])\n",
    "\n",
    "        var_results[stock] = var_t\n",
    "        es_results[stock] = es_t\n",
    "\n",
    "    return var_results, es_results\n",
    "\n",
    "individual_var_t, individual_es_t = individual_t_dist_var_es(returns, weights, portfolio, portfolio_value)\n",
    "# Print individual stock results\n",
    "print(\"\\nIndividual Stocks:\")\n",
    "print(\"VaR (T-distribution with Gaussian Copula, 5%):\", individual_var_t)\n",
    "print(\"ES (T-distribution with Gaussian Copula, 5%):\", individual_es_t)"
   ],
   "id": "db259fb9ea97449b",
   "outputs": [
    {
     "name": "stdout",
     "output_type": "stream",
     "text": [
      "VaR (T-distribution with Gaussian Copula, 5%): $4460.94\n",
      "ES (T-distribution with Gaussian Copula, 5%): $6102.83\n",
      "\n",
      "Individual Stocks:\n",
      "VaR (T-distribution with Gaussian Copula, 5%): {'SPY': np.float64(765.8586813582463), 'AAPL': np.float64(1032.3262229517113), 'EQIX': np.float64(3436.298646009848)}\n",
      "ES (T-distribution with Gaussian Copula, 5%): {'SPY': np.float64(1025.4728006790565), 'AAPL': np.float64(1459.9167861312446), 'EQIX': np.float64(4884.366944391886)}\n"
     ]
    }
   ],
   "execution_count": 161
  },
  {
   "metadata": {
    "ExecuteTime": {
     "end_time": "2025-03-08T08:43:50.896295Z",
     "start_time": "2025-03-08T08:43:50.888202Z"
    }
   },
   "cell_type": "code",
   "source": [
    "## PART 2\n",
    "## Method C\n",
    "position_values = {stock: portfolio[stock] * prices_today[stock] for stock in portfolio.keys()}\n",
    "historical_dollar_changes = pd.DataFrame()\n",
    "arithmetic_returns_zero_mean = returns - returns.mean()\n",
    "for stock in portfolio:\n",
    "    historical_dollar_changes[stock] = arithmetic_returns_zero_mean[stock] * position_values[stock]\n",
    "\n",
    "# Calculate portfolio P&L\n",
    "portfolio_pnl = historical_dollar_changes.sum(axis=1)\n",
    "\n",
    "# Calculate VaR and ES\n",
    "var_historical = np.percentile(portfolio_pnl, 5)\n",
    "es_historical = portfolio_pnl[portfolio_pnl <= var_historical].mean()\n",
    "print(f\"VaR (Historical, 5%): ${-var_historical:.2f}\")\n",
    "print(f\"ES (Historical, 5%): ${-es_historical:.2f}\")\n",
    "\n",
    "## Method C: Historical Simulation for individual stocks\n",
    "def individual_historical_var_es(returns, position_values, alpha=0.05):\n",
    "    var_results = {}\n",
    "    es_results = {}\n",
    "\n",
    "    # Already have zero_mean_returns from your code\n",
    "    arithmetic_returns_zero_mean = returns - returns.mean()\n",
    "\n",
    "    for stock in position_values.keys():\n",
    "        # Calculate historical dollar changes\n",
    "        historical_dollar_changes_stock = arithmetic_returns_zero_mean[stock] * position_values[stock]\n",
    "\n",
    "        # Calculate VaR and ES\n",
    "        var_historical = np.percentile(historical_dollar_changes_stock, alpha * 100)\n",
    "        es_historical = historical_dollar_changes_stock[historical_dollar_changes_stock <= var_historical].mean()\n",
    "\n",
    "        var_results[stock] = -var_historical\n",
    "        es_results[stock] = -es_historical\n",
    "\n",
    "    return var_results, es_results\n",
    "\n",
    "individual_var_hist, individual_es_hist = individual_historical_var_es(returns, position_values)\n",
    "# Print individual stock results\n",
    "print(\"\\nIndividual Stocks:\")\n",
    "print(\"VaR (Historical, 5%):\", individual_var_hist)\n",
    "print(\"ES (Historical, 5%):\", individual_es_hist)\n"
   ],
   "id": "9bf89e8007be8304",
   "outputs": [
    {
     "name": "stdout",
     "output_type": "stream",
     "text": [
      "VaR (Historical, 5%): $4575.03\n",
      "ES (Historical, 5%): $6059.39\n",
      "\n",
      "Individual Stocks:\n",
      "VaR (Historical, 5%): {'SPY': np.float64(872.4038627047056), 'AAPL': np.float64(1067.1149556453588), 'EQIX': np.float64(3635.0770911278046)}\n",
      "ES (Historical, 5%): {'SPY': np.float64(1080.1042035242676), 'AAPL': np.float64(1437.7852719672164), 'EQIX': np.float64(4714.893996144099)}\n"
     ]
    }
   ],
   "execution_count": 162
  },
  {
   "metadata": {},
   "cell_type": "markdown",
   "source": "",
   "id": "1d39df3c3c03cab5"
  },
  {
   "metadata": {},
   "cell_type": "markdown",
   "source": [
    "## PART 3\n",
    "The three methods—Delta-Normal VaR, T-distribution with Gaussian Copula, and Historical The three Value at Risk (VaR) and Expected Shortfall (ES) estimation methods produce different results due to their underlying assumptions and methodologies. The Delta-Normal method, which assumes normally distributed returns and uses an exponentially weighted covariance matrix with λ = 0.97, resulted in a VaR of 3,886.02 and an ES of 4,873.23. This is the lowest among the three methods, which suggests that assuming normality underestimates tail risk. In contrast, the T-distribution with Gaussian Copula method, which captures non-normal dependencies between assets, resulted in a VaR of 4,460.94 and an ES of 6,102.83. This indicates a higher risk estimate due to the ability of the t-copula to model fat tails and extreme co-movements. Finally, the Historical Simulation method, which directly uses past return data without distributional assumptions, produced the highest VaR of 4,575.03 and an ES of 6,059.39. This suggests that historical data contains more extreme losses than those predicted by the normal assumption. The results show that the normality assumption tends to underestimate potential losses, while the historical and t-copula methods provide more conservative risk estimates. Among them, the historical method gives the highest VaR, suggesting that past extreme events had significant impacts on risk estimation, while the t-copula method also captures fat tails effectively."
   ],
   "id": "9ddb38d134e98f4d"
  },
  {
   "metadata": {},
   "cell_type": "markdown",
   "source": [
    "## Problem 3\n",
    "You have a European Call option with the following parameters\n",
    "\n",
    "● Time to maturity: 3 months (0.25 years)\n",
    "\n",
    "● Stock Price: $31\n",
    "\n",
    "● Call Price: $3.00\n",
    "\n",
    "● Strike Price: $30\n",
    "\n",
    "● Risk Free Rate: 10%\n",
    "\n",
    "● No dividends are paid.\n",
    "\n"
   ],
   "id": "cd5bf2efedf81622"
  },
  {
   "metadata": {},
   "cell_type": "markdown",
   "source": "A. Calculate the implied volatility",
   "id": "991ce3f766cf4d17"
  },
  {
   "metadata": {
    "ExecuteTime": {
     "end_time": "2025-03-08T08:43:50.913126Z",
     "start_time": "2025-03-08T08:43:50.908891Z"
    }
   },
   "cell_type": "code",
   "source": [
    "import numpy as np\n",
    "from scipy.stats import norm\n",
    "from scipy.optimize import brentq\n",
    "\n",
    "# Given parameters\n",
    "S0 = 31       # Stock price\n",
    "K = 30       # Strike price\n",
    "T = 0.25     # Time to maturity in years\n",
    "r = 0.10     # Risk-free rate\n",
    "C_market = 3.00  # Market call option price\n",
    "\n",
    "# Black-Scholes formula for call option\n",
    "def black_scholes_call(S, K, T, r, sigma):\n",
    "    d1 = (np.log(S/K) + (r + 0.5 * sigma**2) * T) / (sigma * np.sqrt(T))\n",
    "    d2 = d1 - sigma * np.sqrt(T)\n",
    "    call_price = S * norm.cdf(d1) - K * np.exp(-r * T) * norm.cdf(d2)\n",
    "    return call_price\n",
    "\n",
    "# Function to find the difference between model price and market price\n",
    "def objective_function(sigma):\n",
    "    return black_scholes_call(S0, K, T, r, sigma) - C_market\n",
    "\n",
    "# Solve for implied volatility using root-finding method\n",
    "# Search between 0.01% and 100% volatility\n",
    "try:\n",
    "    implied_volatility = brentq(objective_function, 0.0001, 1.0)\n",
    "    print(f\"Implied Volatility: {implied_volatility:.4f} ({implied_volatility*100:.2f}%)\")\n",
    "except ValueError:\n",
    "    print(\"Could not find implied volatility within the specified range.\")\n",
    "\n",
    "# # Verify the result\n",
    "# call_price = black_scholes_call(S, K, T, r, implied_volatility)\n",
    "# print(f\"Call Price with Calculated IV: ${call_price:.4f}\")"
   ],
   "id": "7d3ef5095a859924",
   "outputs": [
    {
     "name": "stdout",
     "output_type": "stream",
     "text": [
      "Implied Volatility: 0.3351 (33.51%)\n"
     ]
    }
   ],
   "execution_count": 163
  },
  {
   "metadata": {},
   "cell_type": "markdown",
   "source": "B. Calculate the Delta, Vega, and Theta. Using this information, by approximately how much would the price of the option change is the implied volatility increased by 1%. Prove it.",
   "id": "eef823e019e8aeb0"
  },
  {
   "metadata": {
    "ExecuteTime": {
     "end_time": "2025-03-08T08:43:50.939702Z",
     "start_time": "2025-03-08T08:43:50.934692Z"
    }
   },
   "cell_type": "code",
   "source": [
    "# Calculate d1 and d2 for Black-Scholes\n",
    "def calculate_d1_d2(S, K, T, r, sigma):\n",
    "    d1 = (np.log(S/K) + (r + 0.5 * sigma**2) * T) / (sigma * np.sqrt(T))\n",
    "    d2 = d1 - sigma * np.sqrt(T)\n",
    "    return d1, d2\n",
    "\n",
    "d1, d2 = calculate_d1_d2(S0, K, T, r, implied_volatility)\n",
    "\n",
    "# Calculate Delta\n",
    "delta = norm.cdf(d1)\n",
    "print(f\"Delta: {delta}\")\n",
    "\n",
    "# Calculate Vega (sensitivity to volatility changes)\n",
    "# Note: Vega is typically expressed as change per 1 percentage point change in volatility\n",
    "vega = S0 * norm.pdf(d1) * np.sqrt(T) * 0.01  # 0.01 = 1 percentage point\n",
    "print(f\"Vega: {vega}\")\n",
    "\n",
    "# Calculate Theta\n",
    "# Theta is typically expressed as change per calendar day\n",
    "theta = -(S0 * norm.pdf(d1) * implied_volatility) / (2 * np.sqrt(T)) - r * K * np.exp(-r * T) * norm.cdf(d2)\n",
    "print(f\"Theta (annually): {theta}\")\n",
    "\n",
    "current_price = S0 * norm.cdf(d1) - K * np.exp(-r * T) * norm.cdf(d2)\n",
    "# Calculate option price with volatility increased by 1%\n",
    "new_volatility = implied_volatility + 0.01  # Adding 1 percentage point (0.01 in decimal)\n",
    "d1_new, d2_new = calculate_d1_d2(S0, K, T, r, new_volatility)\n",
    "new_price = S0 * norm.cdf(d1_new) - K * np.exp(-r * T) * norm.cdf(d2_new)\n",
    "print(f\"Option price with volatility +1%: ${new_price}\")\n",
    "\n",
    "# Calculate actual price change\n",
    "actual_change = new_price - current_price\n",
    "print(f\"Actual price change: ${actual_change}\")"
   ],
   "id": "e0b0558415a7288a",
   "outputs": [
    {
     "name": "stdout",
     "output_type": "stream",
     "text": [
      "Delta: 0.6659296527386923\n",
      "Vega: 0.05640705439230115\n",
      "Theta (annually): -5.544561508358889\n",
      "Option price with volatility +1%: $3.05649842751734\n",
      "Actual price change: $0.056498427517343686\n"
     ]
    }
   ],
   "execution_count": 164
  },
  {
   "metadata": {},
   "cell_type": "markdown",
   "source": "C. Calculate the price of the put using Generalized Black Scholes Merton. Does Put-Call Parity Hold?",
   "id": "7e2dafa229d32147"
  },
  {
   "metadata": {
    "ExecuteTime": {
     "end_time": "2025-03-08T08:43:50.967633Z",
     "start_time": "2025-03-08T08:43:50.965326Z"
    }
   },
   "cell_type": "code",
   "source": [
    "def black_scholes(call: bool, S0, X, T, r, implied_vol):\n",
    "    # Compute d1 and d2\n",
    "    d1 = (np.log(S0 / X) + (r + 0.5 * implied_vol ** 2) * T) / (implied_vol * np.sqrt(T))\n",
    "    d2 = d1 - implied_vol * np.sqrt(T)\n",
    "    if call:\n",
    "        option_price = S0 * norm.cdf(d1) - X * np.exp(-r * T) * norm.cdf(d2)\n",
    "    else:\n",
    "        option_price = X * np.exp(-r * T) * norm.cdf(-d2) - S0 * norm.cdf(-d1)\n",
    "\n",
    "    return option_price"
   ],
   "id": "d45058bf4a2ee6d6",
   "outputs": [],
   "execution_count": 165
  },
  {
   "metadata": {
    "ExecuteTime": {
     "end_time": "2025-03-08T08:43:50.999371Z",
     "start_time": "2025-03-08T08:43:50.996663Z"
    }
   },
   "cell_type": "code",
   "source": [
    "put_price = black_scholes(False, S0, K, T, r, implied_volatility)\n",
    "print(f\"Put price: {put_price:.4f}\")"
   ],
   "id": "ab931d07cfbb13c7",
   "outputs": [
    {
     "name": "stdout",
     "output_type": "stream",
     "text": [
      "Put price: 1.2593\n"
     ]
    }
   ],
   "execution_count": 166
  },
  {
   "metadata": {
    "ExecuteTime": {
     "end_time": "2025-03-08T08:43:51.016064Z",
     "start_time": "2025-03-08T08:43:51.013875Z"
    }
   },
   "cell_type": "code",
   "source": [
    "LHS = C_market + K * np.exp(-r * T)\n",
    "RHS = put_price + S0\n",
    "print(f\"LHS (C + K e^(-rT)): {LHS:.4f}\")\n",
    "print(f\"RHS (P + S0): {RHS:.4f}\")\n",
    "if np.isclose(LHS, RHS, rtol=1e-4):\n",
    "    print(\"Put-Call Parity holds.\")\n",
    "else:\n",
    "    print(\"Put-Call Parity does not hold.\")"
   ],
   "id": "ed0510bfb6ec0cc7",
   "outputs": [
    {
     "name": "stdout",
     "output_type": "stream",
     "text": [
      "LHS (C + K e^(-rT)): 32.2593\n",
      "RHS (P + S0): 32.2593\n",
      "Put-Call Parity holds.\n"
     ]
    }
   ],
   "execution_count": 167
  },
  {
   "metadata": {},
   "cell_type": "markdown",
   "source": [
    "D. Given a portfolio of\n",
    "\n",
    "    a. 1 call\n",
    "\n",
    "    b. 1 put\n",
    "\n",
    "    c. 1 share of stock\n",
    "\n",
    "Assuming the stock’s return is normally distributed with an annual volatility of 25%, the expected annual return of the stock is 0%, there are 255 trading days in a year, and the implied volatility is constant. Calculate VaR and ES for a 20 trading day holding period, at alpha=5%\n",
    "using:\n",
    "\n",
    "    d. Delta Normal Approximation\n",
    "\n",
    "    e. Monte Carlo Simulation\n",
    "\n",
    "Hint: Don’t forget to include the option value decay in your calculations\n"
   ],
   "id": "7e814f7cdee4c0bd"
  },
  {
   "metadata": {
    "ExecuteTime": {
     "end_time": "2025-03-08T08:43:51.037302Z",
     "start_time": "2025-03-08T08:43:51.034416Z"
    }
   },
   "cell_type": "code",
   "source": [
    "# Delta-Normal Approximation function\n",
    "delta_portfolio = 0\n",
    "def delta_normal_approximation(S0, K, T, r, sigma_annual, delta_call, vega_call, theta_call, holding_days, trading_days, alpha):\n",
    "    # Convert holding period to years\n",
    "    T_holding = holding_days / trading_days\n",
    "\n",
    "    # Daily volatility\n",
    "    sigma_daily = sigma_annual / np.sqrt(trading_days)\n",
    "\n",
    "    # Put delta and theta\n",
    "    delta_put = delta_call - 1  # derivative on S0 to the call-put parity formula\n",
    "    theta_put = theta_call + r * K * np.exp(-r * T)  # derivative on t to the call-put parity formula\n",
    "\n",
    "    # Portfolio Greeks\n",
    "    global delta_portfolio\n",
    "    delta_portfolio = delta_call + delta_put + 1  # Portfolio delta\n",
    "    vega_portfolio = vega_call + vega_call        # Portfolio vega (call and put vegas are the same)\n",
    "    theta_portfolio = theta_call + theta_put      # Portfolio theta\n",
    "\n",
    "    # Portfolio value change parameters\n",
    "    mean_delta_V = theta_portfolio * T_holding  # Mean change due to theta\n",
    "    std_delta_V = delta_portfolio * S0 * sigma_daily * np.sqrt(holding_days)  # Standard deviation\n",
    "\n",
    "    # Calculate VaR and ES\n",
    "    z_alpha = norm.ppf(alpha)  # alpha quantile of standard normal distribution\n",
    "    VaR_delta_normal = -(mean_delta_V + z_alpha * std_delta_V)\n",
    "\n",
    "    # Expected Shortfall calculation\n",
    "    phi_z_alpha = norm.pdf(z_alpha)  # Standard normal density at z_alpha\n",
    "    ES_delta_normal = -mean_delta_V + (phi_z_alpha / alpha) * std_delta_V\n",
    "\n",
    "    return VaR_delta_normal, ES_delta_normal"
   ],
   "id": "9d7497329bc0f323",
   "outputs": [],
   "execution_count": 168
  },
  {
   "metadata": {
    "ExecuteTime": {
     "end_time": "2025-03-08T08:43:51.064256Z",
     "start_time": "2025-03-08T08:43:51.060637Z"
    }
   },
   "cell_type": "code",
   "source": [
    "# Monte Carlo Simulation function\n",
    "def monte_carlo_simulation(S0, K, T, r, sigma_annual, holding_days, trading_days, alpha, N=10000):\n",
    "    # Convert holding period to years\n",
    "    T_holding = holding_days / trading_days\n",
    "\n",
    "    # Initial portfolio value\n",
    "    initial_call = black_scholes(True, S0, K, T, r, sigma_annual)\n",
    "    initial_put = black_scholes(False, S0, K, T, r, sigma_annual)\n",
    "    initial_portfolio = initial_call + initial_put + S0\n",
    "\n",
    "    # Simulate stock price paths\n",
    "    np.random.seed(42)\n",
    "    Z = np.random.normal(0, 1, N)  # Standard normal random variables\n",
    "\n",
    "    # Simulate stock price at the end of the holding period using GBM\n",
    "    S_t = S0 * np.exp((0 - 0.5 * sigma_annual**2) * T_holding + sigma_annual * np.sqrt(T_holding) * Z)\n",
    "\n",
    "    # Calculate portfolio values for each simulated stock price\n",
    "    portfolio_values = []\n",
    "    remaining_T = T - T_holding  # Remaining time to maturity after holding period\n",
    "\n",
    "    for S in S_t:\n",
    "        # Call and put prices at the end of holding period\n",
    "        call_t = black_scholes(True, S, K, remaining_T, r, sigma_annual)\n",
    "        put_t = black_scholes(False, S, K, remaining_T, r, sigma_annual)\n",
    "        portfolio_t = call_t + put_t + S  # Portfolio value\n",
    "        portfolio_values.append(portfolio_t)\n",
    "\n",
    "    # Calculate portfolio value changes\n",
    "    portfolio_values = np.array(portfolio_values)\n",
    "    portfolio_changes = portfolio_values - initial_portfolio\n",
    "\n",
    "    # Calculate VaR and ES\n",
    "    VaR = -np.percentile(portfolio_changes, alpha * 100)\n",
    "    ES = -np.mean(portfolio_changes[portfolio_changes <= -VaR])\n",
    "\n",
    "    return VaR, ES, portfolio_changes\n"
   ],
   "id": "17896406bab13481",
   "outputs": [],
   "execution_count": 169
  },
  {
   "metadata": {
    "ExecuteTime": {
     "end_time": "2025-03-08T08:43:51.893478Z",
     "start_time": "2025-03-08T08:43:51.072062Z"
    }
   },
   "cell_type": "code",
   "source": [
    "# Given parameters\n",
    "S0 = 31               # Stock price\n",
    "K = 30                # Strike price K = X\n",
    "T = 0.25              # Time to maturity (in years)\n",
    "r = 0.10              # Risk-free rate\n",
    "sigma_annual = 0.25   # Annual volatility\n",
    "holding_days = 20     # Holding period in trading days\n",
    "trading_days = 255    # Trading days in a year\n",
    "alpha = 0.05          # Confidence level\n",
    "\n",
    "# Option Greeks (from previous calculations)\n",
    "delta_call = delta\n",
    "vega_call = vega\n",
    "theta_call = theta\n",
    "\n",
    "# Calculate VaR and ES using Delta-Normal Approximation\n",
    "VaR_delta_normal, ES_delta_normal = delta_normal_approximation(S0, K, T, r, sigma_annual, delta_call, vega_call, theta_call, holding_days, trading_days, alpha)\n",
    "\n",
    "# Calculate VaR and ES using Monte Carlo Simulation\n",
    "VaR_monte_carlo, ES_monte_carlo, portfolio_changes = monte_carlo_simulation(S0, K, T, r, sigma_annual, holding_days, trading_days, alpha)\n",
    "\n",
    "# Output results\n",
    "print(\"Delta-Normal Approximation:\")\n",
    "print(f\"VaR (5%): {VaR_delta_normal:.4f}\")\n",
    "print(f\"ES (5%): {ES_delta_normal:.4f}\")\n",
    "\n",
    "print(\"\\nMonte Carlo Simulation:\")\n",
    "print(f\"VaR (5%): {VaR_monte_carlo:.4f}\")\n",
    "print(f\"ES (5%): {ES_monte_carlo:.4f}\")"
   ],
   "id": "c1087540f5a66a9a",
   "outputs": [
    {
     "name": "stdout",
     "output_type": "stream",
     "text": [
      "Delta-Normal Approximation:\n",
      "VaR (5%): 5.3951\n",
      "ES (5%): 6.6030\n",
      "\n",
      "Monte Carlo Simulation:\n",
      "VaR (5%): 3.9273\n",
      "ES (5%): 4.2456\n"
     ]
    }
   ],
   "execution_count": 170
  },
  {
   "metadata": {},
   "cell_type": "markdown",
   "source": "E. Discuss the differences between the 2 methods. Hint: graph the portfolio value vs the stock value and compare the assumptions between the 2 methods.",
   "id": "56a2c4ecc750942d"
  },
  {
   "metadata": {
    "ExecuteTime": {
     "end_time": "2025-03-08T08:43:51.984189Z",
     "start_time": "2025-03-08T08:43:51.906402Z"
    }
   },
   "cell_type": "code",
   "source": [
    "import matplotlib.pyplot as plt\n",
    "# Portfolio value function\n",
    "def portfolio_value(S, K, T, r, sigma):\n",
    "    C = black_scholes(True, S, K, T, r, sigma)\n",
    "    P = black_scholes(False, S, K, T, r, sigma)\n",
    "    return C + P + S\n",
    "\n",
    "# Delta-Normal Approximation: Linear relationship\n",
    "def delta_normal_value(S, delta_portfolio, initial_portfolio_value):\n",
    "    return initial_portfolio_value + delta_portfolio * (S - S0)\n",
    "\n",
    "# Delta-Normal parameters\n",
    "initial_portfolio_value = portfolio_value(S0, K, T, r, implied_volatility)  # Initial portfolio value\n",
    "\n",
    "# Generate stock price range for plotting\n",
    "S_range = np.linspace(S0 * 0.8, S0 * 1.2, 100)  # Stock price range (80% to 120% of S0)\n",
    "\n",
    "# Calculate portfolio values for Delta-Normal and Monte Carlo\n",
    "delta_normal_values = delta_normal_value(S_range, delta_portfolio, initial_portfolio_value)\n",
    "portfolio_values_range = [portfolio_value(S, K, T, r, implied_volatility) for S in S_range]\n",
    "\n",
    "# Plotting\n",
    "plt.figure(figsize=(10, 6))\n",
    "plt.plot(S_range, delta_normal_values, label=\"Delta-Normal Approximation\", color=\"blue\", linestyle=\"--\")\n",
    "plt.plot(S_range, portfolio_values_range, label=\"Monte Carlo Simulation\", color=\"red\")\n",
    "plt.axvline(x=S0, color=\"black\", linestyle=\":\", label=f\"Initial Stock Price (S0 = {S0})\")\n",
    "plt.xlabel(\"Stock Price (S)\")\n",
    "plt.ylabel(\"Portfolio Value\")\n",
    "plt.title(\"Portfolio Value vs. Stock Price: Delta-Normal vs. Monte Carlo\")\n",
    "plt.legend()\n",
    "plt.grid()\n",
    "plt.show()"
   ],
   "id": "559658cdf79eda51",
   "outputs": [
    {
     "data": {
      "text/plain": [
       "<Figure size 1000x600 with 1 Axes>"
      ],
      "image/png": "[encoded data removed]"
     },
     "metadata": {},
     "output_type": "display_data"
    }
   ],
   "execution_count": 171
  },
  {
   "metadata": {},
   "cell_type": "markdown",
   "source": "The Delta-Normal Approximation and Monte Carlo Simulation methods provide different risk estimates due to their underlying assumptions and modeling approaches. The Delta-Normal method assumes a linear relationship between portfolio value and stock price. However, this method tends to misestimate risk due to its inability to capture non-linearity—particularly for portfolios containing options, whose values exhibit convexity due to time decay and gamma effects. This explains why the Delta-Normal approach produced a higher VaR (5.3951) and ES (6.6030) than the Monte Carlo method, as it assumes a constant delta and does not fully capture option price dynamics over time. On the other hand, the Monte Carlo Simulation models the full distribution of portfolio values by directly simulating stock price movements, incorporating option non-linearity and decay effects. This results in a more flexible and potentially more accurate risk estimation. The graph confirms this, showing that the Monte Carlo simulation (red line) follows a curved trajectory that deviates from the linear Delta-Normal estimate (blue dashed line), particularly as stock prices move away from the initial level. The lower Monte Carlo VaR (3.9273) and ES (4.2456) suggest that the full distribution of simulated portfolio values exhibits less extreme losses than the linearized approximation. Therefore, for portfolios containing options, Monte Carlo provides a more realistic risk assessment, whereas Delta-Normal can be misleading due to its reliance on a normality assumption and local linearization.",
   "id": "f0005c68c69ab874"
  },
  {
   "metadata": {
    "ExecuteTime": {
     "end_time": "2025-03-08T08:43:51.998317Z",
     "start_time": "2025-03-08T08:43:51.996778Z"
    }
   },
   "cell_type": "code",
   "source": "",
   "id": "a2117fe9f5cc33f6",
   "outputs": [],
   "execution_count": null
  }
 ],
 "metadata": {
  "kernelspec": {
   "display_name": "Python 3",
   "language": "python",
   "name": "python3"
  },
  "language_info": {
   "codemirror_mode": {
    "name": "ipython",
    "version": 2
   },
   "file_extension": ".py",
   "mimetype": "text/x-python",
   "name": "python",
   "nbconvert_exporter": "python",
   "pygments_lexer": "ipython2",
   "version": "2.7.6"
  }
 },
 "nbformat": 4,
 "nbformat_minor": 5
}
